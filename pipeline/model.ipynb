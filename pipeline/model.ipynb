{
 "cells": [
  {
   "cell_type": "markdown",
   "metadata": {},
   "source": [
    "# Sigmoid Multi-label Pipeline\n",
    "\n",
    "Defaults: BCE loss, individual classifications per odor mixture"
   ]
  },
  {
   "cell_type": "markdown",
   "metadata": {},
   "source": [
    "## Initialization"
   ]
  },
  {
   "cell_type": "code",
   "execution_count": 4,
   "metadata": {},
   "outputs": [],
   "source": [
    "import pickle\n",
    "import numpy as np\n",
    "import importlib\n",
    "from torch.utils.data import DataLoader, random_split\n",
    "import torch\n",
    "import torch.nn as nn\n",
    "import torch.nn.functional as F\n",
    "import torch.optim as optim\n",
    "from sklearn.metrics import f1_score\n",
    "import matplotlib.pyplot as plt\n"
   ]
  },
  {
   "cell_type": "code",
   "execution_count": 7,
   "metadata": {},
   "outputs": [],
   "source": [
    "N = 500 # number of odors (max: 500)\n",
    "M = 2 # number of odors per mixture\n",
    "THRESHOLD = 0.5 # threshold for binary classification\n",
    "\n",
    "DSET_TYPE = \"U\" # one of [(B) binary, (U) noisy binary, (N) gaussian]\n",
    "\n",
    "BATCH_SIZE = 64\n",
    "NUM_EPOCHS = 5\n",
    "\n",
    "MODEL_TO_LOAD = None\n"
   ]
  },
  {
   "cell_type": "code",
   "execution_count": 6,
   "metadata": {},
   "outputs": [],
   "source": [
    "# Quickly load pickled data, write to index_file for dataset lookup\n",
    "def create_index(pickle_file, index_file):\n",
    "    offsets = []\n",
    "    with open(pickle_file, 'rb') as file:\n",
    "        while True:\n",
    "            offset = file.tell()\n",
    "            try:\n",
    "                pickle.load(file)\n",
    "                offsets.append(offset)\n",
    "            except EOFError:\n",
    "                break\n",
    "    with open(index_file, 'wb') as file:\n",
    "        pickle.dump(offsets, file)\n"
   ]
  },
  {
   "cell_type": "code",
   "execution_count": 22,
   "metadata": {},
   "outputs": [],
   "source": [
    "class AddGaussianNoise(object):\n",
    "    \"\"\"Add Gaussian noise to a tensor.\"\"\"\n",
    "    def __init__(self, mean=0.1, std=0.1):\n",
    "        self.mean = mean\n",
    "        self.std = std\n",
    "\n",
    "    def __call__(self, tensor):\n",
    "        \"\"\"\n",
    "        Adds Gaussian noise to a tensor.\n",
    "        \"\"\"\n",
    "        noise = np.random.randn(1781) * self.std + self.mean\n",
    "        return tensor + noise"
   ]
  },
  {
   "cell_type": "code",
   "execution_count": 177,
   "metadata": {},
   "outputs": [],
   "source": [
    "import dataset\n",
    "importlib.reload(dataset)\n",
    "\n",
    "# datafile = f'data/{DSET_TYPE}_{N}_train.pkl'\n",
    "datafile = 'data/B_500.pkl'\n",
    "indexfile = f'indices/{DSET_TYPE}_{N}_train.idx'\n",
    "\n",
    "create_index(datafile, indexfile)\n",
    "\n",
    "lazy_chem_dataset = dataset.LazyChemDataset(\n",
    "    pickle_file=datafile,\n",
    "    index_file=indexfile,\n",
    "    n_mixture=M,\n",
    "    num_classes=N,\n",
    "    # n_samples=5,\n",
    "    transform=AddGaussianNoise()\n",
    ")\n",
    "\n",
    "train_size = int(0.8 * len(lazy_chem_dataset))\n",
    "val_size = len(lazy_chem_dataset) - train_size\n",
    "train_dataset, val_dataset = random_split(lazy_chem_dataset, [train_size, val_size])\n",
    "train_dataset = lazy_chem_dataset\n",
    "\n",
    "\n",
    "# Create DataLoader for training and validation\n",
    "train_loader = DataLoader(train_dataset, batch_size=BATCH_SIZE, shuffle=True)\n",
    "val_loader = DataLoader(val_dataset, batch_size=BATCH_SIZE, shuffle=False)\n",
    "\n"
   ]
  },
  {
   "cell_type": "markdown",
   "metadata": {},
   "source": [
    "## Model & Parameters"
   ]
  },
  {
   "cell_type": "code",
   "execution_count": 17,
   "metadata": {},
   "outputs": [],
   "source": [
    "class SimpleNet(nn.Module):\n",
    "    def __init__(self, input_size, num_classes):\n",
    "        super(SimpleNet, self).__init__()\n",
    "        self.fc1 = nn.Linear(input_size, 100)\n",
    "        self.dropout = nn.Dropout(0.5)\n",
    "        self.fc2 = nn.Linear(100, num_classes)  # Output logits, not probabilities\n",
    "\n",
    "    def forward(self, x):\n",
    "        x = torch.relu(self.fc1(x))\n",
    "        x = self.dropout(x)\n",
    "        x = self.fc2(x)\n",
    "        return x\n"
   ]
  },
  {
   "cell_type": "code",
   "execution_count": 92,
   "metadata": {},
   "outputs": [],
   "source": [
    "model = SimpleNet(input_size=1781, num_classes=N)\n",
    "device = torch.device(\"cuda\" if torch.cuda.is_available() else \"cpu\")\n",
    "model.to(device)\n",
    "\n",
    "# Load model weights\n",
    "if MODEL_TO_LOAD:\n",
    "    model.load_state_dict(torch.load('N100_sigmoids.pt'))\n",
    "\n",
    "# Optimizer\n",
    "optimizer = optim.Adam(model.parameters(), lr=0.001, weight_decay=0.01)\n",
    "\n",
    "class WeightedBCEWithLogitsLoss(nn.Module):\n",
    "    def __init__(self, pos_weight):\n",
    "        super(WeightedBCEWithLogitsLoss, self).__init__()\n",
    "        # pos_weight should be a tensor of length equal to the number of classes\n",
    "        # each weight corresponds to the positive class weight for each label\n",
    "        self.pos_weight = pos_weight\n",
    "\n",
    "    def forward(self, outputs, targets):\n",
    "        # Initialize BCEWithLogitsLoss with pos_weight for handling class imbalance\n",
    "        criterion = nn.BCEWithLogitsLoss(pos_weight=self.pos_weight)\n",
    "        return criterion(outputs, targets)\n",
    "\n",
    "# Assume higher weight for the positive classes due to sparsity or imbalance\n",
    "pos_weight = torch.ones(N) * 10  \n",
    "loss_function = WeightedBCEWithLogitsLoss(pos_weight=pos_weight.to(device))  # Ensure weights are on the same device as your model/data\n"
   ]
  },
  {
   "cell_type": "markdown",
   "metadata": {},
   "source": [
    "## Training"
   ]
  },
  {
   "cell_type": "code",
   "execution_count": 19,
   "metadata": {},
   "outputs": [],
   "source": [
    "# Accuracy measure function\n",
    "def top_n_accuracy(preds, labels, n=2, correct_n=M):\n",
    "    \"\"\"\n",
    "    Calculate the top-n accuracy for the given predictions and labels.\n",
    "    \"\"\"\n",
    "    top_n_preds = preds.topk(n, dim=1)[1]  # Returns values and indices; [1] to get indices\n",
    "    \n",
    "    # Initialize the score\n",
    "    score = 0.0\n",
    "\n",
    "    for i in range(labels.size(0)):\n",
    "        actual_labels = labels[i].bool()\n",
    "        # select the label positions that are top n\n",
    "        correct_preds = actual_labels[top_n_preds[i]].float()  \n",
    "        score += correct_preds.sum().item() / correct_n\n",
    "\n",
    "    return score"
   ]
  },
  {
   "cell_type": "code",
   "execution_count": 148,
   "metadata": {},
   "outputs": [],
   "source": [
    "# Training loop\n",
    "def train_model(model, loss_function, optimizer, num_epochs):\n",
    "    train_losses = []\n",
    "    val_losses = []\n",
    "    train_accuracies = []\n",
    "    val_accuracies = []\n",
    "\n",
    "    # Training Loop\n",
    "    for epoch in range(num_epochs):\n",
    "        model.train()  # Set the model to training mode\n",
    "        train_loss = 0.0\n",
    "        all_labels = []\n",
    "        all_preds = []\n",
    "        accuracy = 0\n",
    "\n",
    "        for data, target in train_loader:\n",
    "            data, target = data.to(device), target.to(device)\n",
    "\n",
    "            # Forward pass\n",
    "            outputs = model(data).squeeze(1)\n",
    "            loss = loss_function(outputs, target)\n",
    "\n",
    "            # Convert outputs to predicted labels\n",
    "            predicted_probs = torch.sigmoid(outputs)  # Sigmoid to convert logits to probabilities\n",
    "            predicted_labels = (predicted_probs > THRESHOLD).float()  # Threshold probabilities\n",
    "\n",
    "            # Collect labels and predictions for F1 score calculation\n",
    "            all_labels.append(target.cpu().numpy())\n",
    "            all_preds.append(predicted_labels.cpu().numpy())\n",
    "            accuracy += top_n_accuracy(predicted_probs, target, n=2, correct_n=2)\n",
    "\n",
    "            # Backward and optimize\n",
    "            optimizer.zero_grad()  # Clear gradients w.r.t. parameters\n",
    "            loss.backward()  # Backpropagation\n",
    "            optimizer.step()  # Update parameters\n",
    "\n",
    "            train_loss += loss.item() * data.size(0)\n",
    "\n",
    "        # Calculate average loss\n",
    "        train_loss /= len(train_loader.dataset)\n",
    "\n",
    "        # Calculate F1 score\n",
    "        all_labels = np.concatenate(all_labels)\n",
    "        all_preds = np.concatenate(all_preds)\n",
    "        # train_f1_score = f1_score(all_labels, all_preds, average='macro')\n",
    "        train_accuracy = accuracy / len(train_loader.dataset)\n",
    "        \n",
    "        train_losses.append(train_loss)\n",
    "        train_accuracies.append(train_accuracy)\n",
    "\n",
    "        # Validation phase\n",
    "        model.eval()  # Set model to evaluation mode\n",
    "        val_loss = 0.0\n",
    "        all_labels = []\n",
    "        all_preds = []\n",
    "        accuracy = 0\n",
    "\n",
    "        with torch.no_grad():\n",
    "            for data, target in val_loader:\n",
    "                data, target = data.to(device), target.to(device)\n",
    "                outputs = model(data).squeeze(1)\n",
    "                loss = loss_function(outputs, target)\n",
    "\n",
    "                # Convert outputs to predicted labels\n",
    "                predicted_probs = torch.sigmoid(outputs)\n",
    "                predicted_labels = (predicted_probs > THRESHOLD).float()\n",
    "\n",
    "                # Collect labels and predictions for F1 score calculation\n",
    "                all_labels.append(target.cpu().numpy())\n",
    "                all_preds.append(predicted_labels.cpu().numpy())\n",
    "                accuracy += top_n_accuracy(predicted_probs, target, n=M)\n",
    "\n",
    "                val_loss += loss.item() * data.size(0)\n",
    "\n",
    "        # Calculate average loss\n",
    "        val_loss /= len(val_loader.dataset)\n",
    "\n",
    "        # Calculate F1 score\n",
    "        all_labels = np.concatenate(all_labels)\n",
    "        all_preds = np.concatenate(all_preds)\n",
    "        # val_f1_score = f1_score(all_labels, all_preds, average='macro')\n",
    "        val_accuracy = accuracy / len(val_loader.dataset)\n",
    "\n",
    "        val_losses.append(val_loss)\n",
    "        val_accuracies.append(val_accuracy)\n",
    "\n",
    "        # Print training statistics\n",
    "        print(f'Epoch: {epoch+1}/{num_epochs} \\t'\n",
    "              f'Training Loss: {train_loss:.4f} \\t Training Accuracy: {train_accuracy:.4f} \\t'\n",
    "              f'Validation Loss: {val_loss:.4f} \\t Validation Accuracy: {val_accuracy:.4f}')\n",
    "    return train_losses, val_losses, train_accuracies, val_accuracies\n"
   ]
  },
  {
   "cell_type": "code",
   "execution_count": 178,
   "metadata": {},
   "outputs": [],
   "source": [
    "t_losses, v_losses, t_accuracies, v_accuracies = [], [], [], []"
   ]
  },
  {
   "cell_type": "code",
   "execution_count": 179,
   "metadata": {},
   "outputs": [
    {
     "name": "stdout",
     "output_type": "stream",
     "text": [
      "Epoch: 1/30 \tTraining Loss: 0.6364 \t Training Accuracy: 0.2900 \tValidation Loss: 0.6170 \t Validation Accuracy: 0.3640\n",
      "Epoch: 2/30 \tTraining Loss: 0.6037 \t Training Accuracy: 0.2963 \tValidation Loss: 0.5874 \t Validation Accuracy: 0.3666\n",
      "Epoch: 3/30 \tTraining Loss: 0.5775 \t Training Accuracy: 0.3012 \tValidation Loss: 0.5621 \t Validation Accuracy: 0.3684\n",
      "Epoch: 4/30 \tTraining Loss: 0.5540 \t Training Accuracy: 0.3060 \tValidation Loss: 0.5401 \t Validation Accuracy: 0.3704\n",
      "Epoch: 5/30 \tTraining Loss: 0.5336 \t Training Accuracy: 0.3089 \tValidation Loss: 0.5211 \t Validation Accuracy: 0.3719\n",
      "Epoch: 6/30 \tTraining Loss: 0.5156 \t Training Accuracy: 0.3110 \tValidation Loss: 0.5036 \t Validation Accuracy: 0.3724\n",
      "Epoch: 7/30 \tTraining Loss: 0.4995 \t Training Accuracy: 0.3127 \tValidation Loss: 0.4882 \t Validation Accuracy: 0.3730\n",
      "Epoch: 8/30 \tTraining Loss: 0.4865 \t Training Accuracy: 0.3142 \tValidation Loss: 0.4745 \t Validation Accuracy: 0.3738\n",
      "Epoch: 9/30 \tTraining Loss: 0.4730 \t Training Accuracy: 0.3154 \tValidation Loss: 0.4614 \t Validation Accuracy: 0.3749\n",
      "Epoch: 10/30 \tTraining Loss: 0.4612 \t Training Accuracy: 0.3158 \tValidation Loss: 0.4501 \t Validation Accuracy: 0.3750\n",
      "Epoch: 11/30 \tTraining Loss: 0.4515 \t Training Accuracy: 0.3167 \tValidation Loss: 0.4395 \t Validation Accuracy: 0.3758\n",
      "Epoch: 12/30 \tTraining Loss: 0.4407 \t Training Accuracy: 0.3171 \tValidation Loss: 0.4294 \t Validation Accuracy: 0.3757\n",
      "Epoch: 13/30 \tTraining Loss: 0.4318 \t Training Accuracy: 0.3172 \tValidation Loss: 0.4202 \t Validation Accuracy: 0.3769\n",
      "Epoch: 14/30 \tTraining Loss: 0.4235 \t Training Accuracy: 0.3175 \tValidation Loss: 0.4116 \t Validation Accuracy: 0.3761\n",
      "Epoch: 15/30 \tTraining Loss: 0.4154 \t Training Accuracy: 0.3175 \tValidation Loss: 0.4037 \t Validation Accuracy: 0.3767\n",
      "Epoch: 16/30 \tTraining Loss: 0.4088 \t Training Accuracy: 0.3179 \tValidation Loss: 0.3961 \t Validation Accuracy: 0.3768\n",
      "Epoch: 17/30 \tTraining Loss: 0.4013 \t Training Accuracy: 0.3180 \tValidation Loss: 0.3891 \t Validation Accuracy: 0.3778\n",
      "Epoch: 18/30 \tTraining Loss: 0.3945 \t Training Accuracy: 0.3183 \tValidation Loss: 0.3826 \t Validation Accuracy: 0.3775\n",
      "Epoch: 19/30 \tTraining Loss: 0.3885 \t Training Accuracy: 0.3183 \tValidation Loss: 0.3762 \t Validation Accuracy: 0.3772\n",
      "Epoch: 20/30 \tTraining Loss: 0.3823 \t Training Accuracy: 0.3184 \tValidation Loss: 0.3701 \t Validation Accuracy: 0.3777\n",
      "Epoch: 21/30 \tTraining Loss: 0.3765 \t Training Accuracy: 0.3177 \tValidation Loss: 0.3641 \t Validation Accuracy: 0.3774\n",
      "Epoch: 22/30 \tTraining Loss: 0.3711 \t Training Accuracy: 0.3182 \tValidation Loss: 0.3584 \t Validation Accuracy: 0.3780\n",
      "Epoch: 23/30 \tTraining Loss: 0.3659 \t Training Accuracy: 0.3175 \tValidation Loss: 0.3531 \t Validation Accuracy: 0.3787\n",
      "Epoch: 24/30 \tTraining Loss: 0.3609 \t Training Accuracy: 0.3180 \tValidation Loss: 0.3481 \t Validation Accuracy: 0.3769\n",
      "Epoch: 25/30 \tTraining Loss: 0.3561 \t Training Accuracy: 0.3176 \tValidation Loss: 0.3432 \t Validation Accuracy: 0.3779\n",
      "Epoch: 26/30 \tTraining Loss: 0.3514 \t Training Accuracy: 0.3177 \tValidation Loss: 0.3381 \t Validation Accuracy: 0.3774\n",
      "Epoch: 27/30 \tTraining Loss: 0.3469 \t Training Accuracy: 0.3175 \tValidation Loss: 0.3339 \t Validation Accuracy: 0.3780\n",
      "Epoch: 28/30 \tTraining Loss: 0.3428 \t Training Accuracy: 0.3168 \tValidation Loss: 0.3293 \t Validation Accuracy: 0.3784\n"
     ]
    }
   ],
   "source": [
    "# optimizer=optim.SGD(model.parameters(), lr=0.0001)\n",
    "train_losses, val_losses, train_accuracies, val_accuracies = train_model(model, loss_function, optimizer, 30)\n",
    "t_losses += train_losses\n",
    "v_losses += val_losses\n",
    "t_accuracies += train_accuracies\n",
    "v_accuracies += val_accuracies"
   ]
  },
  {
   "cell_type": "code",
   "execution_count": 143,
   "metadata": {},
   "outputs": [],
   "source": [
    "torch.save(model.state_dict(), 'U_500_pretrained.pt')"
   ]
  },
  {
   "cell_type": "markdown",
   "metadata": {},
   "source": [
    "### Plotting for training"
   ]
  },
  {
   "cell_type": "code",
   "execution_count": 138,
   "metadata": {},
   "outputs": [
    {
     "data": {
      "image/png": "[encoded data removed]",
      "text/plain": [
       "<Figure size 640x480 with 2 Axes>"
      ]
     },
     "metadata": {},
     "output_type": "display_data"
    }
   ],
   "source": [
    "# Create the figure and axes\n",
    "fig, ax1 = plt.subplots()\n",
    "\n",
    "# Plot the train and validation losses\n",
    "ax1.plot(t_losses, label='Train Loss', color='lightblue')\n",
    "ax1.plot(v_losses, label='Validation Loss', color='pink')\n",
    "\n",
    "# Set labels and title for the left axis\n",
    "ax1.set_xlabel('Epochs')\n",
    "ax1.set_ylabel('Loss')\n",
    "ax1.set_title(f'Data-{DSET_TYPE}, N-{N}, M-{M} Train and Validation Losses')\n",
    "\n",
    "# Create a second y-axis\n",
    "ax2 = ax1.twinx()\n",
    "\n",
    "# Plot the train and validation accuracies\n",
    "ax2.plot(t_accuracies, label='Train Accuracy', color='blue')\n",
    "ax2.plot(v_accuracies, label='Validation Accuracy', color='red')\n",
    "\n",
    "# Set labels for the right axis\n",
    "ax2.set_ylabel('Accuracy')\n",
    "\n",
    "# Add a legend\n",
    "lines, labels = ax1.get_legend_handles_labels()\n",
    "lines2, labels2 = ax2.get_legend_handles_labels()\n",
    "ax1.legend(lines + lines2, labels + labels2, loc='lower right')\n",
    "\n",
    "# Show the plot\n",
    "plt.show()\n"
   ]
  },
  {
   "cell_type": "code",
   "execution_count": 176,
   "metadata": {},
   "outputs": [
    {
     "name": "stdout",
     "output_type": "stream",
     "text": [
      "(tensor([ 0.2245, -0.0190,  0.2083,  ...,  0.0130,  0.0537, -0.1258]), tensor([0., 0., 0., 0., 0., 1., 0., 0., 0., 0., 0., 0., 0., 0., 0., 0., 0., 0.,\n",
      "        0., 0., 0., 0., 0., 0., 0., 0., 0., 0., 0., 0., 0., 0., 0., 0., 0., 0.,\n",
      "        0., 0., 0., 0., 0., 0., 0., 0., 0., 0., 0., 0., 0., 0., 0., 0., 0., 0.,\n",
      "        0., 0., 0., 0., 0., 0., 0., 0., 0., 0., 0., 0., 0., 0., 0., 0., 0., 0.,\n",
      "        0., 0., 0., 0., 0., 0., 0., 0., 0., 0., 0., 0., 0., 0., 0., 0., 0., 0.,\n",
      "        0., 0., 0., 0., 0., 0., 0., 0., 0., 0., 0., 0., 0., 0., 0., 0., 0., 0.,\n",
      "        0., 0., 0., 0., 0., 0., 0., 0., 0., 0., 0., 0., 0., 0., 0., 0., 0., 0.,\n",
      "        0., 0., 0., 0., 0., 0., 0., 0., 0., 0., 0., 0., 0., 0., 0., 0., 0., 0.,\n",
      "        0., 0., 0., 0., 0., 0., 0., 0., 0., 0., 0., 0., 0., 0., 0., 0., 0., 0.,\n",
      "        0., 0., 0., 0., 0., 0., 0., 0., 0., 0., 0., 0., 0., 0., 0., 0., 0., 0.,\n",
      "        0., 0., 0., 0., 0., 0., 0., 0., 0., 0., 0., 0., 0., 0., 0., 0., 0., 0.,\n",
      "        0., 0., 0., 0., 0., 0., 0., 0., 0., 0., 0., 0., 0., 0., 0., 0., 0., 0.,\n",
      "        0., 0., 0., 0., 0., 0., 0., 0., 0., 0., 0., 0., 0., 0., 0., 0., 0., 0.,\n",
      "        0., 0., 0., 0., 0., 0., 0., 0., 0., 0., 0., 0., 0., 0., 0., 0., 0., 0.,\n",
      "        0., 0., 0., 0., 0., 0., 0., 0., 0., 0., 0., 0., 0., 0., 0., 0., 0., 0.,\n",
      "        0., 0., 0., 0., 0., 0., 0., 0., 0., 0., 0., 0., 0., 0., 0., 0., 0., 0.,\n",
      "        0., 0., 0., 0., 0., 0., 0., 0., 0., 0., 0., 0., 0., 0., 0., 0., 0., 0.,\n",
      "        0., 0., 0., 0., 0., 0., 0., 0., 0., 0., 0., 0., 0., 0., 0., 0., 0., 0.,\n",
      "        0., 0., 0., 0., 0., 0., 0., 0., 0., 0., 0., 0., 0., 0., 0., 0., 0., 0.,\n",
      "        0., 0., 0., 0., 0., 0., 0., 0., 0., 0., 0., 0., 0., 0., 0., 0., 0., 0.,\n",
      "        0., 0., 0., 0., 0., 0., 0., 0., 0., 0., 0., 0., 0., 0., 0., 0., 0., 0.,\n",
      "        0., 0., 0., 0., 0., 0., 0., 0., 0., 0., 0., 0., 0., 0., 0., 0., 0., 0.,\n",
      "        0., 0., 0., 0., 0., 0., 0., 0., 0., 0., 0., 0., 0., 0., 0., 0., 0., 0.,\n",
      "        0., 0., 0., 0., 0., 0., 0., 0., 0., 0., 0., 0., 0., 0., 0., 0., 0., 0.,\n",
      "        0., 0., 0., 0., 0., 0., 0., 0., 0., 0., 0., 0., 0., 0., 0., 0., 0., 0.,\n",
      "        0., 0., 0., 0., 0., 0., 0., 0., 0., 0., 0., 0., 0., 0., 0., 0., 0., 0.,\n",
      "        0., 0., 0., 0., 0., 0., 0., 0., 0., 0., 0., 0., 0., 0., 0., 0., 0., 0.,\n",
      "        0., 0., 0., 0., 0., 0., 0., 0., 0., 0., 0., 0., 0., 0.]))\n",
      "torch.Size([1, 500]) torch.Size([2, 500])\n"
     ]
    },
    {
     "ename": "IndexError",
     "evalue": "index 3 is out of bounds for dimension 0 with size 2",
     "output_type": "error",
     "traceback": [
      "\u001b[0;31m---------------------------------------------------------------------------\u001b[0m",
      "\u001b[0;31mIndexError\u001b[0m                                Traceback (most recent call last)",
      "Cell \u001b[0;32mIn[176], line 9\u001b[0m\n\u001b[1;32m      7\u001b[0m \u001b[38;5;28mprint\u001b[39m(train_dataset[\u001b[38;5;241m5\u001b[39m])\n\u001b[1;32m      8\u001b[0m \u001b[38;5;28mprint\u001b[39m(predicted_probs\u001b[38;5;241m.\u001b[39mshape, label\u001b[38;5;241m.\u001b[39mshape)\n\u001b[0;32m----> 9\u001b[0m \u001b[43mtop_n_accuracy\u001b[49m\u001b[43m(\u001b[49m\u001b[43mpredicted_probs\u001b[49m\u001b[43m,\u001b[49m\u001b[43m \u001b[49m\u001b[43mlabels\u001b[49m\u001b[43m,\u001b[49m\u001b[43m \u001b[49m\u001b[43mn\u001b[49m\u001b[38;5;241;43m=\u001b[39;49m\u001b[38;5;241;43m2\u001b[39;49m\u001b[43m,\u001b[49m\u001b[43m \u001b[49m\u001b[43mcorrect_n\u001b[49m\u001b[38;5;241;43m=\u001b[39;49m\u001b[38;5;241;43m2\u001b[39;49m\u001b[43m)\u001b[49m\n",
      "Cell \u001b[0;32mIn[19], line 14\u001b[0m, in \u001b[0;36mtop_n_accuracy\u001b[0;34m(preds, labels, n, correct_n)\u001b[0m\n\u001b[1;32m     12\u001b[0m     actual_labels \u001b[38;5;241m=\u001b[39m labels[i]\u001b[38;5;241m.\u001b[39mbool()\n\u001b[1;32m     13\u001b[0m     \u001b[38;5;66;03m# select the label positions that are top n\u001b[39;00m\n\u001b[0;32m---> 14\u001b[0m     correct_preds \u001b[38;5;241m=\u001b[39m \u001b[43mactual_labels\u001b[49m\u001b[43m[\u001b[49m\u001b[43mtop_n_preds\u001b[49m\u001b[43m[\u001b[49m\u001b[43mi\u001b[49m\u001b[43m]\u001b[49m\u001b[43m]\u001b[49m\u001b[38;5;241m.\u001b[39mfloat()  \n\u001b[1;32m     15\u001b[0m     score \u001b[38;5;241m+\u001b[39m\u001b[38;5;241m=\u001b[39m correct_preds\u001b[38;5;241m.\u001b[39msum()\u001b[38;5;241m.\u001b[39mitem() \u001b[38;5;241m/\u001b[39m correct_n\n\u001b[1;32m     17\u001b[0m \u001b[38;5;28;01mreturn\u001b[39;00m score\n",
      "\u001b[0;31mIndexError\u001b[0m: index 3 is out of bounds for dimension 0 with size 2"
     ]
    }
   ],
   "source": [
    "mix = train_dataset[5][0].unsqueeze(0).to(device) + train_dataset[3][0].unsqueeze(0).to(device)\n",
    "outputs = model(mix).squeeze(1)\n",
    "predicted_probs = torch.sigmoid(outputs)  # Sigmoid to convert logits to probabilities\n",
    "label1 = train_dataset[5][1]\n",
    "label2 = train_dataset[3][1]\n",
    "label = torch.stack((label1, label2))\n",
    "print(train_dataset[5])\n",
    "print(predicted_probs.shape, label.shape)\n",
    "top_n_accuracy(predicted_probs, labels, n=2, correct_n=2)\n"
   ]
  },
  {
   "cell_type": "markdown",
   "metadata": {},
   "source": [
    "## Testing"
   ]
  },
  {
   "cell_type": "code",
   "execution_count": null,
   "metadata": {},
   "outputs": [],
   "source": [
    "# Prepare data for final evaluation of model\n",
    "create_index('testing.pkl', 'testing.idx')\n",
    "test_set = dataset.LazyChemDataset('100testing.pkl', '100testing.idx', M, N)\n",
    "test_loader = DataLoader(test_set, batch_size=64, shuffle=True)"
   ]
  },
  {
   "cell_type": "code",
   "execution_count": 152,
   "metadata": {},
   "outputs": [
    {
     "ename": "NameError",
     "evalue": "name 'test_loader' is not defined",
     "output_type": "error",
     "traceback": [
      "\u001b[0;31m---------------------------------------------------------------------------\u001b[0m",
      "\u001b[0;31mNameError\u001b[0m                                 Traceback (most recent call last)",
      "Cell \u001b[0;32mIn[152], line 45\u001b[0m\n\u001b[1;32m     41\u001b[0m     \u001b[38;5;28mprint\u001b[39m(\u001b[38;5;124mf\u001b[39m\u001b[38;5;124m\"\u001b[39m\u001b[38;5;124mF1 Score: \u001b[39m\u001b[38;5;132;01m{\u001b[39;00mf1\u001b[38;5;132;01m:\u001b[39;00m\u001b[38;5;124m.4f\u001b[39m\u001b[38;5;132;01m}\u001b[39;00m\u001b[38;5;124m\"\u001b[39m)\n\u001b[1;32m     42\u001b[0m     \u001b[38;5;28;01mreturn\u001b[39;00m accuracy, f1, f1_none\n\u001b[0;32m---> 45\u001b[0m \u001b[43mtest\u001b[49m\u001b[43m(\u001b[49m\u001b[38;5;241;43m2\u001b[39;49m\u001b[43m)\u001b[49m\n",
      "Cell \u001b[0;32mIn[152], line 9\u001b[0m, in \u001b[0;36mtest\u001b[0;34m(top_n)\u001b[0m\n\u001b[1;32m      6\u001b[0m all_preds \u001b[38;5;241m=\u001b[39m []\n\u001b[1;32m      8\u001b[0m \u001b[38;5;66;03m# Loop through test_loader\u001b[39;00m\n\u001b[0;32m----> 9\u001b[0m \u001b[38;5;28;01mfor\u001b[39;00m mix, label \u001b[38;5;129;01min\u001b[39;00m \u001b[43mtest_loader\u001b[49m:\n\u001b[1;32m     10\u001b[0m     \u001b[38;5;28;01mif\u001b[39;00m \u001b[38;5;129;01mnot\u001b[39;00m mix\u001b[38;5;241m.\u001b[39mshape:  \u001b[38;5;66;03m# Skip batches that somehow have no data\u001b[39;00m\n\u001b[1;32m     11\u001b[0m         \u001b[38;5;28;01mcontinue\u001b[39;00m\n",
      "\u001b[0;31mNameError\u001b[0m: name 'test_loader' is not defined"
     ]
    }
   ],
   "source": [
    "# Testing loop\n",
    "def test(top_n):\n",
    "    running_correct = 0\n",
    "    total = 0\n",
    "    all_labels = []\n",
    "    all_preds = []\n",
    "\n",
    "    # Loop through test_loader\n",
    "    for mix, label in test_loader:\n",
    "        if not mix.shape:  # Skip batches that somehow have no data\n",
    "            continue\n",
    "        outputs = model(mix).squeeze(1)\n",
    "        predicted_probs = torch.sigmoid(outputs)  # Sigmoid to convert logits to probabilities\n",
    "        predicted_labels = (predicted_probs > 0.7).float()  # Thresholding probabilities at 0.3\n",
    "        # running_correct += (predicted_labels == label).float().sum().item()\n",
    "        running_correct += top_n_accuracy(predicted_probs, label, n=top_n, correct_n=2)\n",
    "        # print(predicted_probs.shape, label.shape)\n",
    "        total += 1\n",
    "\n",
    "        # Collect labels and predictions for F1 score calculation\n",
    "        all_labels.append(label.cpu().numpy())\n",
    "        all_preds.append(predicted_labels.cpu().numpy())\n",
    "\n",
    "        # # Debugging output\n",
    "        # print(\"True labels: \", label[0])\n",
    "        # print(\"Predicted labels: \", predicted_labels[0])\n",
    "        # print(\"Perfect match: \", torch.equal(label[0], predicted_labels[0]))\n",
    "        print(predicted_probs, predicted_labels)\n",
    "        if total >= 1:\n",
    "            break\n",
    "\n",
    "\n",
    "    # Calculate overall accuracy and F1 score\n",
    "    accuracy = running_correct / (total * 64)\n",
    "    all_labels = np.concatenate(all_labels)\n",
    "    all_preds = np.concatenate(all_preds)\n",
    "    f1 = f1_score(all_labels, all_preds, average='macro')  # 'macro' averaging considers label imbalance\n",
    "    f1_none = f1_score(all_labels, all_preds, average=None)\n",
    "\n",
    "    print(f\"Overall Accuracy: {accuracy:.4f}\")\n",
    "    print(f\"F1 Score: {f1:.4f}\")\n",
    "    return accuracy, f1, f1_none\n"
   ]
  },
  {
   "cell_type": "code",
   "execution_count": null,
   "metadata": {},
   "outputs": [],
   "source": [
    "# Plot F1 Scores\n",
    "_, _, f1_none = test(top_n=2)\n",
    "\n",
    "# Create a bar plot of the F1 scores\n",
    "plt.figure(figsize=(10, 6))\n",
    "plt.bar(range(N), f1_none, color='skyblue')\n",
    "plt.xlabel('Odor Index')\n",
    "plt.ylabel('F1 Score')\n",
    "plt.xticks(ticks=np.arange(0, N, 10), \n",
    "           labels=[i for i in np.arange(0, N, 10)],\n",
    "           rotation=45)\n",
    "plt.title('Weighted BCE Loss, F1 Scores per Label')\n",
    "plt.ylim(0, 1)  # F1 score ranges from 0 to 1\n",
    "plt.show()"
   ]
  },
  {
   "cell_type": "code",
   "execution_count": null,
   "metadata": {},
   "outputs": [],
   "source": [
    "# Plot Top-n accuracy\n",
    "accuracies = []\n",
    "for i in [2, 5, 10, 15]:\n",
    "    print(f\"Top-{i} Accuracy:\")\n",
    "    accuracy, _, _ = test(i)\n",
    "    accuracies.append(accuracy)\n",
    "\n",
    "# Create a line plot of the top-n accuracies\n",
    "plt.figure(figsize=(10, 6))\n",
    "plt.plot([2, 5, 10, 15], accuracies, marker='o', color='skyblue')\n",
    "plt.xlabel('Top-N')\n",
    "plt.ylabel('Accuracy')\n",
    "plt.title('Weighted BCE Loss, Top-N Accuracy')\n",
    "plt.grid(True)\n",
    "plt.show()"
   ]
  }
 ],
 "metadata": {
  "kernelspec": {
   "display_name": "base",
   "language": "python",
   "name": "python3"
  },
  "language_info": {
   "codemirror_mode": {
    "name": "ipython",
    "version": 3
   },
   "file_extension": ".py",
   "mimetype": "text/x-python",
   "name": "python",
   "nbconvert_exporter": "python",
   "pygments_lexer": "ipython3",
   "version": "3.9.17"
  }
 },
 "nbformat": 4,
 "nbformat_minor": 2
}
