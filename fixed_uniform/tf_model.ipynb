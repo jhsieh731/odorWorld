{
 "cells": [
  {
   "cell_type": "code",
   "execution_count": 2,
   "metadata": {},
   "outputs": [
    {
     "name": "stderr",
     "output_type": "stream",
     "text": [
      "2024-04-05 23:11:24.847759: I tensorflow/core/platform/cpu_feature_guard.cc:193] This TensorFlow binary is optimized with oneAPI Deep Neural Network Library (oneDNN) to use the following CPU instructions in performance-critical operations:  SSE4.1 SSE4.2\n",
      "To enable them in other operations, rebuild TensorFlow with the appropriate compiler flags.\n"
     ]
    }
   ],
   "source": [
    "import tensorflow as tf\n",
    "from tensorflow.keras import layers, models, optimizers\n",
    "import numpy as np\n",
    "import pandas as pd\n",
    "import pickle\n",
    "import matplotlib.pyplot as plt\n",
    "import seaborn as sns"
   ]
  },
  {
   "cell_type": "code",
   "execution_count": 3,
   "metadata": {},
   "outputs": [],
   "source": [
    "training = []\n",
    "with open('training.pkl', 'rb') as file:\n",
    "    while True:\n",
    "        try:\n",
    "            training.append(pickle.load(file))\n",
    "        except:\n",
    "            break"
   ]
  },
  {
   "cell_type": "code",
   "execution_count": 4,
   "metadata": {},
   "outputs": [],
   "source": [
    "x = []\n",
    "y = []\n",
    "\n",
    "for chem in training:\n",
    "    x.append(chem[0])\n",
    "    y.append(chem[1])\n",
    "\n",
    "x = np.array(x)\n",
    "y = np.array(y)\n",
    "y = y.reshape(500, 1)"
   ]
  },
  {
   "cell_type": "code",
   "execution_count": 8,
   "metadata": {},
   "outputs": [],
   "source": [
    "model = models.Sequential()\n",
    "model.add(layers.Dense(1500, activation='relu', input_shape=(1781,)))\n",
    "model.add(layers.Dense(1500, activation='relu'))\n",
    "model.add(layers.Dense(1500, activation='relu'))\n",
    "model.add(layers.Dense(500, activation='softmax'))\n",
    "\n",
    "model.compile(optimizer='adam', loss='sparse_categorical_crossentropy', metrics=['accuracy'])"
   ]
  },
  {
   "cell_type": "code",
   "execution_count": 18,
   "metadata": {},
   "outputs": [
    {
     "name": "stdout",
     "output_type": "stream",
     "text": [
      "Epoch 1/20\n",
      "3/3 [==============================] - 0s 89ms/step - loss: 0.0279 - accuracy: 0.9900\n",
      "Epoch 2/20\n",
      "3/3 [==============================] - 0s 88ms/step - loss: 0.0208 - accuracy: 0.9940\n",
      "Epoch 3/20\n",
      "3/3 [==============================] - 0s 89ms/step - loss: 0.0203 - accuracy: 0.9960\n",
      "Epoch 4/20\n",
      "3/3 [==============================] - 0s 76ms/step - loss: 0.0151 - accuracy: 0.9940\n",
      "Epoch 5/20\n",
      "3/3 [==============================] - 0s 73ms/step - loss: 0.0215 - accuracy: 0.9940\n",
      "Epoch 6/20\n",
      "3/3 [==============================] - 0s 85ms/step - loss: 0.0140 - accuracy: 0.9960\n",
      "Epoch 7/20\n",
      "3/3 [==============================] - 0s 78ms/step - loss: 0.0292 - accuracy: 0.9920\n",
      "Epoch 8/20\n",
      "3/3 [==============================] - 0s 86ms/step - loss: 0.0107 - accuracy: 0.9980\n",
      "Epoch 9/20\n",
      "3/3 [==============================] - 0s 82ms/step - loss: 0.0225 - accuracy: 0.9960\n",
      "Epoch 10/20\n",
      "3/3 [==============================] - 0s 105ms/step - loss: 0.0149 - accuracy: 0.9960\n",
      "Epoch 11/20\n",
      "3/3 [==============================] - 0s 77ms/step - loss: 0.0111 - accuracy: 0.9960\n",
      "Epoch 12/20\n",
      "3/3 [==============================] - 0s 75ms/step - loss: 0.0106 - accuracy: 1.0000\n",
      "Epoch 13/20\n",
      "3/3 [==============================] - 0s 68ms/step - loss: 0.0072 - accuracy: 1.0000\n",
      "Epoch 14/20\n",
      "3/3 [==============================] - 0s 75ms/step - loss: 0.0046 - accuracy: 1.0000\n",
      "Epoch 15/20\n",
      "3/3 [==============================] - 0s 68ms/step - loss: 0.0046 - accuracy: 1.0000\n",
      "Epoch 16/20\n",
      "3/3 [==============================] - 0s 73ms/step - loss: 0.0054 - accuracy: 0.9980\n",
      "Epoch 17/20\n",
      "3/3 [==============================] - 0s 146ms/step - loss: 0.0039 - accuracy: 1.0000\n",
      "Epoch 18/20\n",
      "3/3 [==============================] - 0s 93ms/step - loss: 0.0031 - accuracy: 1.0000\n",
      "Epoch 19/20\n",
      "3/3 [==============================] - 0s 111ms/step - loss: 0.0025 - accuracy: 1.0000\n",
      "Epoch 20/20\n",
      "3/3 [==============================] - 1s 112ms/step - loss: 0.0021 - accuracy: 1.0000\n"
     ]
    }
   ],
   "source": [
    "hist = model.fit(x, y, epochs=20, batch_size=200)"
   ]
  },
  {
   "cell_type": "code",
   "execution_count": 19,
   "metadata": {},
   "outputs": [
    {
     "name": "stdout",
     "output_type": "stream",
     "text": [
      "0\n",
      "100\n",
      "200\n",
      "300\n",
      "400\n",
      "500\n",
      "600\n",
      "700\n",
      "800\n",
      "900\n",
      "Accuracy: 0.391\n",
      "Accuracy (at least 1 corect): 0.996\n"
     ]
    }
   ],
   "source": [
    "# Testing pre-trained model on mixtures of 2\n",
    "import random\n",
    "n_tests = 1000\n",
    "\n",
    "def test(mixture_size, top_n):\n",
    "  running_1corrects = 0\n",
    "  running_corrects = 0\n",
    "  for i in range(n_tests):\n",
    "    if i % 100 == 0:\n",
    "      print(i)\n",
    "    \n",
    "    indices = []\n",
    "    for _ in range(mixture_size):\n",
    "      new_i = random.randint(0, 499)\n",
    "      while new_i in indices:\n",
    "        new_i = random.randint(0, 499)\n",
    "      indices.append(new_i)\n",
    "\n",
    "    odors = [x[id] for id in indices]\n",
    "\n",
    "    mixture = sum(odors).reshape(1, -1)\n",
    "    top_n_preds = np.argsort(model.predict(mixture, verbose=False)[0])[-top_n:]\n",
    "\n",
    "    if all([id in top_n_preds for id in indices]):\n",
    "      running_corrects += 1\n",
    "    if any([id in top_n_preds for id in indices]):\n",
    "      running_1corrects += 1\n",
    "  print(f\"Accuracy: {running_corrects/n_tests}\")\n",
    "  print(f\"Accuracy (at least 1 corect): {running_1corrects/n_tests}\")\n",
    "\n",
    "test(2, 5)\n"
   ]
  },
  {
   "cell_type": "code",
   "execution_count": 110,
   "metadata": {},
   "outputs": [
    {
     "name": "stdout",
     "output_type": "stream",
     "text": [
      "15 240\n"
     ]
    }
   ],
   "source": [
    "v1 = 15\n",
    "v1_zero_shift = (v1 & 0b00001111) << 4\n",
    "v1_zero = v1 & 0b00001111\n",
    "print(v1_zero, v1_zero_shift)"
   ]
  }
 ],
 "metadata": {
  "kernelspec": {
   "display_name": "base",
   "language": "python",
   "name": "python3"
  },
  "language_info": {
   "codemirror_mode": {
    "name": "ipython",
    "version": 3
   },
   "file_extension": ".py",
   "mimetype": "text/x-python",
   "name": "python",
   "nbconvert_exporter": "python",
   "pygments_lexer": "ipython3",
   "version": "3.9.17"
  }
 },
 "nbformat": 4,
 "nbformat_minor": 2
}
