{
 "cells": [
  {
   "cell_type": "code",
   "execution_count": 18,
   "metadata": {},
   "outputs": [],
   "source": [
    "import pickle as pkl\n",
    "import numpy as np\n",
    "\n",
    "with open('../binary_opens.pkl','rb') as readfile:\n",
    "  # ** x is a dictionary, with idx: [chems]\n",
    "  x = pkl.load(readfile)"
   ]
  },
  {
   "cell_type": "code",
   "execution_count": 47,
   "metadata": {},
   "outputs": [],
   "source": [
    "# labels switch from idx in x to indexing\n",
    "index_to_id = {}\n",
    "with open('training.pkl', 'wb') as writefile:\n",
    "  for i, id in enumerate(x.keys()):\n",
    "    odor = x[id]\n",
    "    pkl.dump([odor, i], writefile)\n",
    "    index_to_id[i] = id"
   ]
  },
  {
   "cell_type": "code",
   "execution_count": 48,
   "metadata": {},
   "outputs": [],
   "source": [
    "import pandas as pd\n",
    "\n",
    "df = pd.DataFrame(columns=['data', 'label'])\n",
    "with open('training.pkl', 'rb') as readfile:\n",
    "  while True:\n",
    "    try:\n",
    "      df.loc[len(df.index)] = pkl.load(readfile)\n",
    "    except EOFError:\n",
    "        break"
   ]
  },
  {
   "cell_type": "code",
   "execution_count": 49,
   "metadata": {},
   "outputs": [
    {
     "name": "stdout",
     "output_type": "stream",
     "text": [
      "[2. 0. 0. ... 2. 0. 0.]\n",
      "499\n",
      "978\n"
     ]
    }
   ],
   "source": [
    "odor, label = df.iloc[499, :]\n",
    "print(odor + odor)\n",
    "print(label)\n",
    "print(index_to_id[label])"
   ]
  },
  {
   "cell_type": "code",
   "execution_count": 50,
   "metadata": {},
   "outputs": [],
   "source": [
    "with open('testing.pkl', 'wb') as writefile:\n",
    "  for i in range(len(x)):\n",
    "    for j in range(i+1, len(x)):\n",
    "      odor1, label1 = df.iloc[i, :]\n",
    "      odor2, label2 = df.iloc[j, :]\n",
    "      mixture, label = odor1 + odor2, (i, j)\n",
    "      pkl.dump([mixture, label], writefile)"
   ]
  }
 ],
 "metadata": {
  "kernelspec": {
   "display_name": "base",
   "language": "python",
   "name": "python3"
  },
  "language_info": {
   "codemirror_mode": {
    "name": "ipython",
    "version": 3
   },
   "file_extension": ".py",
   "mimetype": "text/x-python",
   "name": "python",
   "nbconvert_exporter": "python",
   "pygments_lexer": "ipython3",
   "version": "3.9.17"
  }
 },
 "nbformat": 4,
 "nbformat_minor": 2
}
