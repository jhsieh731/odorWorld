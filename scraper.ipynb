{
 "cells": [
  {
   "cell_type": "markdown",
   "metadata": {},
   "source": [
    "# Scraper for FlavorDB"
   ]
  },
  {
   "cell_type": "code",
   "execution_count": 1,
   "metadata": {},
   "outputs": [],
   "source": [
    "import requests\n",
    "import json\n",
    "import pandas as pd\n",
    "import csv"
   ]
  },
  {
   "cell_type": "markdown",
   "metadata": {},
   "source": [
    "Captures only entities with full data, but it seems incomplete also have adequate molecule data"
   ]
  },
  {
   "cell_type": "code",
   "execution_count": 4,
   "metadata": {},
   "outputs": [],
   "source": [
    "json_res = requests.get('https://cosylab.iiitd.edu.in/flavordb/entities?entity=%20&category=')\n",
    "text_res = json.loads(json_res.text)\n",
    "res = json.loads(text_res)"
   ]
  },
  {
   "cell_type": "markdown",
   "metadata": {},
   "source": [
    "Store all entities in `data.csv`"
   ]
  },
  {
   "cell_type": "code",
   "execution_count": 63,
   "metadata": {},
   "outputs": [],
   "source": [
    "data = pd.DataFrame.from_records(res)\n",
    "data.to_csv('data.csv', index=False)\n",
    "\n",
    "with open('data.csv') as file:\n",
    "  csv_reader = csv.DictReader(file)\n",
    "  data = [row for row in csv_reader]"
   ]
  },
  {
   "cell_type": "markdown",
   "metadata": {},
   "source": [
    "Read in all entity information into `data_chemicals.csv` (approx. 35 minutes on M1)"
   ]
  },
  {
   "cell_type": "code",
   "execution_count": 5,
   "metadata": {},
   "outputs": [
    {
     "name": "stdout",
     "output_type": "stream",
     "text": [
      "406\n",
      "407\n",
      "414\n",
      "420\n"
     ]
    }
   ],
   "source": [
    "# molecules stored in indices from 0 to 978\n",
    "id = 0\n",
    "with open('data_chemicals.csv', 'a') as csvfile:\n",
    "  writer = csv.writer(csvfile)\n",
    "  # csv header\n",
    "  writer.writerow(['id', 'common_name', 'category', 'chemicals'])\n",
    "  while id <= 978:\n",
    "    try:\n",
    "      entity_res1 = requests.get(f'https://cosylab.iiitd.edu.in/flavordb/entities_json?id={id}')\n",
    "      entity_res = json.loads(entity_res1.text)\n",
    "      category = entity_res['category']\n",
    "      common_name = entity_res['entity_alias_readable']\n",
    "      # !! May want to grab functional groups here from entity_res['molecules'][i]['functional_groups']\n",
    "      molecules = list(map(lambda obj: obj['common_name'], entity_res['molecules']))\n",
    "      writer.writerow([id, common_name, category, str(molecules)])\n",
    "    except:\n",
    "      print(id)\n",
    "    finally:\n",
    "      id += 1"
   ]
  },
  {
   "cell_type": "code",
   "execution_count": 11,
   "metadata": {},
   "outputs": [
    {
     "name": "stdout",
     "output_type": "stream",
     "text": [
      "1781\n"
     ]
    }
   ],
   "source": [
    "import ast\n",
    "\n",
    "with open('data_chemicals.csv', 'r') as file:\n",
    "  csv_reader = csv.DictReader(file)\n",
    "  # convert stringified list back into python list\n",
    "  data = [ast.literal_eval(row['chemicals']) for row in csv_reader]\n",
    "\n",
    "# getting distinct chemicals\n",
    "chemical_set = set()\n",
    "for lst in data:\n",
    "  chemical_set.update(lst)\n",
    "\n",
    "print(len(chemical_set))\n"
   ]
  },
  {
   "cell_type": "markdown",
   "metadata": {},
   "source": [
    "TODO:\n",
    "- remove entities with duplicate chemical compounds\n",
    "- one-hot encode according to chemical_set"
   ]
  },
  {
   "cell_type": "markdown",
   "metadata": {},
   "source": []
  }
 ],
 "metadata": {
  "kernelspec": {
   "display_name": "base",
   "language": "python",
   "name": "python3"
  },
  "language_info": {
   "codemirror_mode": {
    "name": "ipython",
    "version": 3
   },
   "file_extension": ".py",
   "mimetype": "text/x-python",
   "name": "python",
   "nbconvert_exporter": "python",
   "pygments_lexer": "ipython3",
   "version": "3.9.17"
  }
 },
 "nbformat": 4,
 "nbformat_minor": 2
}
