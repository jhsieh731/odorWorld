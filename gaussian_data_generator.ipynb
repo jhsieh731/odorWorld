{
 "cells": [
  {
   "cell_type": "markdown",
   "metadata": {},
   "source": [
    "Create and save distributions for 500 odor entities"
   ]
  },
  {
   "cell_type": "code",
   "execution_count": 1,
   "metadata": {},
   "outputs": [],
   "source": [
    "import pickle as pkl\n",
    "import numpy as np"
   ]
  },
  {
   "cell_type": "code",
   "execution_count": 3,
   "metadata": {},
   "outputs": [],
   "source": [
    "with open('binary_opens.pkl','rb') as readfile:\n",
    "  # ** x is a dictionary, with idx: [chems]\n",
    "  x = pkl.load(readfile)\n",
    "\n",
    "  \n",
    "# ** distributions is a dict with id: { means: [], covariances: [matrix] }\n",
    "distributions = {}\n",
    "for id in x.keys():\n",
    "  odor = x[id]\n",
    "  n = len(odor)\n",
    "  odor = odor.reshape(-1, 1).astype(int)\n",
    "\n",
    "  odor_distribution = {}\n",
    "  mean = [np.random.random() * 10 + 30 if chem else 0 for chem in odor]\n",
    "  odor_distribution[\"mean\"] = mean\n",
    "\n",
    "  ones_indices = [i for (i, v) in enumerate(odor) if v]\n",
    "  cov = np.zeros((n, n))\n",
    "  for i in ones_indices:\n",
    "    for j in ones_indices:\n",
    "      if i == j:\n",
    "        cov[i][j] = np.random.random()\n",
    "      else:\n",
    "        cov[i][j] = np.random.random()*1.5-0.75\n",
    "        cov[j][i] = cov[i][j]\n",
    "\n",
    "\n",
    "  odor_distribution[\"covariances\"] = np.dot(cov, cov.T) # for psd covariance matrix\n",
    "\n",
    "  distributions[id] = odor_distribution"
   ]
  },
  {
   "cell_type": "code",
   "execution_count": 4,
   "metadata": {},
   "outputs": [
    {
     "name": "stdout",
     "output_type": "stream",
     "text": [
      "[29.23448591172562, 33.82283519395624, 0, 0, 0, 0, 0, 0, 0, 0, 0, 0, 0, 0, 0, 0, 0, 0, 0, 0, 33.35131915112555, 0, 0, 0, 0, 0, 0, 0, 0, 0, 0, 0, 0, 0, 0, 0, 34.66039135022656, 0, 0, 0, 0, 0, 0, 32.50270068215765, 0, 0, 0, 0, 0, 0, 0, 0, 0, 0, 0, 0, 0, 0, 0, 0, 37.23123676074444, 0, 0, 0, 0, 0, 0, 0, 0, 0, 0, 26.688670931951485, 0, 0, 0, 0, 36.379410515224926, 0, 0, 0, 0, 0, 0, 0, 0, 0, 0, 0, 0, 0, 0, 0, 0, 0, 0, 0, 0, 0, 0, 0, 32.266731445022764, 0, 0, 0, 0, 0, 0, 0, 0, 0, 0, 0, 0, 0, 0, 0, 0, 0, 0, 0, 0, 0, 0, 0, 0, 0, 0, 0, 0, 0, 0, 0, 0, 0, 0, 31.625021637150716, 0, 0, 0, 0, 0, 0, 0, 0, 0, 24.37147918842051, 0, 0, 0, 0, 37.845164562337644, 0, 0, 0, 0, 0, 0, 0, 0, 0, 0, 0, 39.431757231944026, 0, 0, 0, 0, 0, 0, 0, 0, 0, 0, 0, 0, 0, 33.688749029089976, 0, 0, 0, 0, 0, 0, 0, 0, 0, 0, 0, 0, 0, 0, 0, 0, 0, 0, 0, 0, 0, 0, 0, 0, 0, 0, 0, 0, 0, 31.02996122488951, 0, 0, 47.75349028448042, 0, 0, 0, 0, 0, 0, 0, 0, 0, 0, 0, 38.037940613069686, 0, 0, 0, 0, 0, 0, 0, 0, 0, 0, 0, 0, 0, 0, 0, 0, 0, 0, 0, 0, 0, 0, 0, 0, 0, 0, 40.68355245074649, 0, 0, 0, 0, 0, 31.62734765396731, 0, 0, 0, 0, 0, 0, 0, 0, 0, 0, 0, 44.22729305212431, 0, 0, 0, 0, 0, 33.006229958275455, 0, 0, 0, 0, 0, 0, 0, 36.320894699142045, 0, 0, 0, 0, 0, 0, 0, 0, 0, 0, 0, 0, 0, 0, 0, 36.987023420527514, 51.74323180088478, 0, 0, 39.88921851858541, 0, 0, 0, 0, 0, 0, 0, 0, 0, 0, 0, 0, 0, 0, 0, 0, 0, 0, 0, 0, 0, 0, 0, 0, 0, 0, 0, 0, 0, 33.780309727371595, 0, 0, 0, 0, 0, 0, 0, 0, 0, 0, 0, 0, 0, 0, 0, 0, 0, 0, 0, 0, 0, 0, 0, 0, 0, 0, 0, 0, 0, 0, 0, 0, 0, 0, 0, 0, 0, 0, 0, 0, 0, 44.363080930860136, 0, 0, 0, 0, 0, 0, 0, 0, 0, 0, 0, 0, 0, 0, 0, 0, 0, 0, 0, 0, 0, 0, 0, 0, 0, 0, 29.782116663632987, 0, 0, 0, 0, 0, 0, 0, 0, 0, 0, 0, 0, 0, 0, 0, 0, 0, 0, 0, 0, 36.923680216536155, 0, 0, 0, 0, 0, 0, 0, 0, 0, 0, 0, 0, 0, 0, 0, 40.125310175348574, 0, 0, 49.53841697899751, 0, 0, 0, 0, 0, 0, 0, 0, 0, 0, 39.19151467763422, 0, 0, 0, 0, 0, 0, 0, 0, 0, 0, 0, 30.888832725431236, 0, 0, 0, 0, 0, 0, 0, 0, 0, 25.37975704159506, 0, 0, 0, 0, 0, 0, 0, 0, 0, 0, 0, 38.69244818257383, 0, 0, 0, 0, 0, 0, 0, 0, 0, 0, 0, 0, 0, 0, 0, 0, 0, 0, 0, 0, 0, 0, 0, 0, 36.889413778928336, 0, 0, 0, 0, 0, 0, 0, 0, 0, 0, 0, 0, 0, 0, 0, 0, 0, 0, 0, 0, 0, 0, 0, 0, 0, 0, 0, 0, 48.141320483012514, 0, 0, 0, 0, 0, 0, 0, 0, 0, 0, 0, 0, 0, 0, 0, 0, 0, 26.198447380900397, 0, 0, 0, 0, 0, 0, 0, 0, 0, 0, 0, 0, 0, 0, 0, 0, 0, 0, 0, 0, 0, 0, 0, 0, 0, 0, 0, 0, 0, 0, 0, 0, 0, 0, 31.305268199511715, 34.92835671788868, 0, 0, 0, 0, 0, 0, 0, 0, 0, 0, 0, 0, 0, 0, 0, 30.88139324573118, 0, 0, 0, 0, 37.986830689311475, 0, 0, 0, 0, 0, 0, 0, 0, 0, 0, 0, 0, 0, 0, 0, 0, 0, 0, 36.26118945620136, 0, 0, 0, 0, 0, 0, 0, 0, 0, 0, 0, 41.03207920200495, 0, 0, 0, 0, 0, 0, 0, 0, 0, 0, 0, 0, 0, 0, 0, 0, 0, 0, 0, 0, 0, 0, 37.07933478635216, 0, 0, 0, 0, 0, 0, 0, 0, 0, 0, 0, 0, 0, 0, 0, 0, 0, 0, 0, 0, 0, 0, 0, 0, 0, 0, 0, 0, 0, 42.08730025766761, 0, 0, 0, 0, 0, 0, 0, 0, 0, 0, 0, 0, 36.44809324276461, 39.799092058276926, 0, 0, 0, 0, 0, 0, 0, 0, 0, 0, 0, 0, 0, 0, 0, 0, 0, 26.611981873447775, 0, 0, 0, 0, 0, 0, 0, 0, 0, 0, 0, 0, 0, 0, 0, 0, 0, 32.59442232587682, 0, 0, 0, 0, 0, 0, 0, 0, 0, 0, 0, 0, 0, 0, 0, 0, 0, 0, 0, 0, 0, 0, 0, 0, 0, 0, 0, 0, 0, 0, 0, 0, 0, 0, 0, 0, 0, 0, 0, 0, 0, 0, 0, 0, 0, 0, 0, 0, 0, 0, 0, 0, 0, 0, 0, 0, 0, 0, 0, 34.1878247290836, 0, 0, 0, 32.449189078466475, 0, 38.762545270854226, 33.552363354771806, 0, 0, 0, 36.496978550716825, 0, 0, 0, 0, 0, 0, 0, 0, 0, 0, 0, 0, 0, 0, 0, 0, 0, 0, 0, 0, 0, 0, 0, 0, 0, 0, 0, 0, 0, 0, 0, 0, 0, 0, 0, 0, 0, 0, 0, 0, 0, 0, 0, 0, 0, 0, 0, 0, 0, 0, 0, 0, 44.11807373541299, 35.35369615320247, 0, 0, 0, 0, 0, 0, 31.239050176511572, 0, 0, 0, 0, 0, 0, 0, 0, 0, 0, 0, 0, 32.18374948809907, 0, 0, 0, 0, 0, 0, 0, 47.23798100845212, 0, 0, 0, 37.28499332725565, 0, 0, 0, 0, 0, 0, 0, 0, 0, 0, 33.280124060661485, 0, 0, 0, 0, 0, 0, 0, 0, 0, 0, 0, 29.84023552377895, 0, 0, 0, 0, 0, 0, 0, 0, 0, 0, 0, 0, 0, 0, 0, 0, 0, 0, 0, 0, 0, 0, 0, 0, 0, 0, 0, 0, 20.288879677283713, 0, 0, 0, 0, 0, 0, 0, 0, 30.045671740280554, 0, 0, 0, 36.709615840698774, 0, 0, 0, 0, 0, 0, 0, 0, 0, 0, 0, 0, 0, 0, 0, 0, 0, 0, 0, 0, 0, 0, 0, 0, 0, 50.52196056430902, 35.25724249807081, 0, 0, 0, 0, 0, 0, 37.32393868083164, 0, 0, 0, 0, 0, 0, 0, 0, 0, 0, 0, 0, 0, 0, 57.98051641612499, 0, 0, 35.125393344474766, 0, 0, 0, 0, 0, 36.46523806182871, 0, 0, 0, 0, 0, 0, 0, 0, 0, 0, 0, 0, 0, 0, 0, 0, 0, 0, 0, 0, 0, 0, 33.51983089389976, 0, 0, 0, 32.56541270425201, 0, 0, 0, 0, 0, 0, 0, 0, 0, 0, 0, 0, 0, 0, 36.97289185253427, 0, 0, 0, 0, 0, 0, 30.373230717835437, 0, 0, 0, 0, 0, 0, 27.238650006802207, 0, 0, 0, 0, 0, 0, 0, 0, 0, 32.05595109575887, 0, 0, 0, 0, 0, 0, 0, 0, 0, 0, 0, 0, 0, 0, 0, 0, 0, 0, 39.188191577431226, 0, 0, 0, 0, 0, 0, 0, 0, 34.67028200648811, 0, 0, 0, 36.46058407146615, 0, 0, 0, 0, 0, 0, 0, 0, 0, 0, 0, 34.41257560983886, 0, 0, 0, 0, 0, 0, 0, 0, 0, 0, 0, 0, 0, 0, 0, 0, 0, 0, 0, 0, 0, 0, 0, 0, 37.67186047592107, 0, 0, 0, 0, 0, 32.238009042602876, 0, 0, 0, 0, 0, 0, 0, 0, 0, 0, 0, 0, 0, 0, 37.395976425252016, 0, 0, 0, 0, 0, 0, 0, 36.002187561281836, 0, 0, 0, 0, 0, 0, 0, 0, 0, 0, 0, 0, 0, 0, 0, 0, 0, 0, 0, 0, 0, 0, 0, 0, 0, 0, 0, 0, 0, 0, 0, 0, 0, 0, 0, 0, 0, 30.17120974787559, 0, 0, 0, 0, 0, 0, 0, 0, 40.251958575374594, 0, 0, 0, 0, 0, 0, 0, 0, 0, 0, 0, 0, 0, 0, 0, 0, 0, 25.123448681537464, 0, 0, 0, 0, 0, 0, 0, 0, 28.821513233022475, 0, 0, 30.479457844964255, 0, 0, 0, 32.40802950099223, 0, 38.542119671001814, 0, 0, 0, 27.598964711774464, 0, 0, 0, 0, 0, 0, 0, 0, 32.57029780211387, 0, 0, 0, 0, 0, 0, 0, 0, 0, 0, 0, 0, 0, 0, 0, 0, 21.838558035516446, 0, 0, 0, 0, 0, 0, 0, 0, 0, 0, 0, 0, 0, 0, 0, 0, 42.44187814898741, 0, 0, 0, 0, 0, 0, 0, 0, 0, 0, 0, 0, 0, 0, 0, 0, 0, 0, 0, 0, 43.35344908361659, 0, 0, 0, 0, 0, 0, 0, 0, 0, 0, 0, 0, 0, 36.311086723205705, 33.43760557123837, 0, 0, 0, 0, 0, 0, 0, 0, 0, 0, 0, 30.915232218665736, 0, 0, 0, 0, 0, 0, 0, 0, 0, 0, 0, 0, 0, 0, 0, 0, 0, 0, 0, 29.50003944843213, 0, 0, 0, 0, 0, 0, 0, 0, 0, 0, 0, 0, 0, 0, 0, 0, 0, 0, 0, 0, 0, 0, 0, 0, 0, 0, 0, 0, 0, 0, 0, 0, 0, 0, 0, 0, 0, 0, 0, 0, 0, 0, 0, 0, 0, 0, 0, 0, 0, 0, 46.61295303857433, 0, 0, 0, 0, 0, 0, 0, 0, 0, 0, 0, 0, 0, 0, 34.557860619569745, 0, 45.145150398814536, 0, 0, 0, 0, 0, 0, 0, 0, 0, 0, 0, 0, 0, 0, 0, 0, 0, 0, 0, 0, 0, 0, 0, 0, 0, 0, 0, 32.87721740969555, 0, 31.890863428327947, 0, 0, 29.691760180546307, 0, 0, 0, 0, 0, 0, 0, 26.332645290958297, 0, 0, 35.13961494083414, 0, 0, 0, 0, 0, 0, 0, 0, 0, 0, 0, 31.94854776288171, 0, 0, 0, 0, 0, 0, 0, 0, 0, 0, 0, 0, 0, 0, 0, 0, 0, 0, 0, 0, 0, 0, 0, 0, 0, 0, 0, 0, 0, 0, 0, 0, 0, 0, 0, 0, 0, 0, 0, 0, 0, 0, 0, 0, 0, 0, 0, 0, 0, 0, 0, 0, 0, 0, 0, 37.50514231853587, 0, 0, 0, 0, 0, 0, 34.87206844535321, 0, 0, 0, 38.55614433789039, 0, 0, 0, 0, 0, 0, 42.33624455501234, 0, 34.45597902300114, 0, 0, 0, 0, 0, 0, 0, 0, 0, 0, 0, 0, 0, 0, 0, 0, 0, 0, 0, 0, 0, 0, 31.723938414266918, 0, 0, 0, 0, 0, 31.792862459783514, 0, 0, 0, 0, 0, 0, 37.490672076704826, 0, 0, 0, 0, 40.24793357884389, 0, 0, 0, 0, 0, 0, 0, 0, 0, 0, 0, 0, 0, 0, 0, 0, 0, 0, 0, 0, 24.08720093598212, 0, 0, 0, 0, 0, 0, 0, 0, 0, 0, 0, 0, 0, 0, 0, 0, 0, 0, 0, 0, 0, 0, 0, 0, 0, 0, 0, 0, 0, 0, 0, 0, 0, 0, 0, 0, 0, 0, 0, 0, 0, 0, 0, 0, 0, 0, 0, 32.2430888534683, 0, 0, 0, 0, 0, 0, 0, 0, 0, 0, 0, 0, 0, 0, 0, 30.713682080037174, 0, 0, 0, 0, 0, 0, 0, 0, 0, 0, 0, 0, 0, 0, 0, 0, 0, 0, 0, 0, 0, 0, 0, 0, 0, 0, 0, 0, 0, 0, 28.363736793621506, 0, 0, 0, 0, 0, 0, 0, 0, 0, 39.30573208467037, 0, 0, 0, 0, 0, 0, 0, 0, 0, 0, 0, 0, 0, 0, 34.22174244328992, 0, 0, 0, 0, 33.99638600205446, 35.82189478692313, 36.453203301219325, 0, 0]\n"
     ]
    }
   ],
   "source": [
    "# y_cov = distributions[1][\"covariances\"]\n",
    "# y_mean = distributions[1][\"mean\"]\n",
    "# # print(np.count_nonzero(x[5]))\n",
    "# # print(np.count_nonzero(y_mean))\n",
    "# # print(np.count_nonzero(y_cov))\n",
    "# # np.min(np.real(np.linalg.eigvals(y_cov@y_cov.T)))\n",
    "# # odor1 = np.random.multivariate_normal(distributions[1][\"mean\"], distributions[1][\"covariances\"], size=1)\n",
    "# # print(len(x))\n",
    "# diags = []\n",
    "# for i in range(len(y_mean)):\n",
    "#   if y_cov[i][i] != 0:\n",
    "#     diags.append(y_cov[i][i])\n",
    "# print(diags)\n",
    "odor1 = np.random.multivariate_normal(distributions[2][\"mean\"], distributions[2][\"covariances\"], size=1)\n",
    "odor1 = [v if abs(v) >= 0.01 else 0 for v in odor1[0]]\n",
    "print(odor1)\n",
    "for v in odor1:\n",
    "  if v < 0:\n",
    "    print(v)"
   ]
  },
  {
   "cell_type": "markdown",
   "metadata": {},
   "source": [
    "Save distributions"
   ]
  },
  {
   "cell_type": "code",
   "execution_count": 5,
   "metadata": {},
   "outputs": [],
   "source": [
    "with open('distributions.pkl', 'wb') as writefile: \n",
    "  pkl.dump(distributions, writefile)"
   ]
  },
  {
   "cell_type": "code",
   "execution_count": 2,
   "metadata": {},
   "outputs": [],
   "source": [
    "with open('distributions.pkl','rb') as readfile:\n",
    "  # ** x is a dictionary, with idx: [chems]\n",
    "  distributions = pkl.load(readfile)"
   ]
  },
  {
   "cell_type": "markdown",
   "metadata": {},
   "source": [
    "Generate training and validation data"
   ]
  },
  {
   "cell_type": "code",
   "execution_count": 6,
   "metadata": {},
   "outputs": [],
   "source": [
    "# import csv\n",
    "# def make_data(segment):\n",
    "#   keys = list(distributions.keys())\n",
    "#   segments = {\n",
    "#     0: keys[0:63],\n",
    "#     1: keys[63:124],\n",
    "#     2: keys[124:187],\n",
    "#     3: keys[187:249],\n",
    "#     4: keys[249:312],\n",
    "#     5: keys[312:374],\n",
    "#     6: keys[374:436],\n",
    "#     7: keys[436:]\n",
    "#   }\n",
    "#   samples_per_mixture = 30\n",
    "#   for split in ['gaussian/training.csv', 'gaussian/validation.csv']:\n",
    "#     with open(split, 'w') as writefile:\n",
    "#       writer = csv.writer(writefile)\n",
    "#       for id1 in segments[segment]:\n",
    "#         for id2 in keys:\n",
    "#           if id1 == id2:\n",
    "#             continue\n",
    "#           # for _ in range(samples_per_mixture):\n",
    "#           odor1 = np.random.multivariate_normal(distributions[id1][\"mean\"], distributions[id1][\"covariances\"], size=samples_per_mixture)\n",
    "#           odor2 = np.random.multivariate_normal(distributions[id2][\"mean\"], distributions[id2][\"covariances\"], size=samples_per_mixture)\n",
    "#           mixture = odor1 + odor2\n",
    "#           mixture = [[str([v if abs(v) >= 0.01 else 0 for v in mix]), (id1, id2)] for mix in mixture]\n",
    "#           writer.writerows(mixture)\n",
    "import csv\n",
    "import numpy as np\n",
    "import concurrent.futures\n",
    "import threading\n",
    "\n",
    "# Create a lock for synchronizing access to the CSV file\n",
    "pickle_lock = threading.Lock()\n",
    "\n",
    "# makes training data\n",
    "def make_data(segment):\n",
    "    keys = list(distributions.keys())\n",
    "    segments = {\n",
    "        0: keys[0:63],\n",
    "        1: keys[63:124],\n",
    "        2: keys[124:187],\n",
    "        3: keys[187:249],\n",
    "        4: keys[249:312],\n",
    "        5: keys[312:374],\n",
    "        6: keys[374:436],\n",
    "        7: keys[436:]\n",
    "    }\n",
    "    samples_per_mixture = 30\n",
    "    with pickle_lock:\n",
    "      with open('gaussian/training.pkl', 'ab') as writefile:  # Open file in 'a' mode to append\n",
    "        writer = csv.writer(writefile)\n",
    "        for id1 in segments[segment]:\n",
    "          for id2 in keys:\n",
    "            if id1 == id2:\n",
    "              continue\n",
    "            # for _ in range(samples_per_mixture):\n",
    "            odor1 = np.random.multivariate_normal(distributions[id1][\"mean\"], distributions[id1][\"covariances\"], size=samples_per_mixture)\n",
    "            odor2 = np.random.multivariate_normal(distributions[id2][\"mean\"], distributions[id2][\"covariances\"], size=samples_per_mixture)\n",
    "            mixture = odor1 + odor2\n",
    "            mixture = [[str([v if abs(v) >= 0.01 else 0 for v in mix]), (id1, id2)] for mix in mixture]\n",
    "            # Acquire a lock before writing to the file\n",
    "            with pickle_lock:\n",
    "              writer.writerows(mixture)\n"
   ]
  },
  {
   "cell_type": "code",
   "execution_count": 7,
   "metadata": {},
   "outputs": [],
   "source": [
    "# List of arguments to pass to make_data function\n",
    "args = list(range(0, 8))\n",
    "\n",
    "# Create a ThreadPoolExecutor with maximum workers set to the number of available CPUs\n",
    "with concurrent.futures.ThreadPoolExecutor(max_workers=12) as executor:\n",
    "    # Submit tasks for each argument in args to be executed concurrently\n",
    "    futures = [executor.submit(make_data, arg) for arg in args]\n",
    "    \n",
    "    # Wait for all tasks to complete\n",
    "    concurrent.futures.wait(futures)"
   ]
  },
  {
   "cell_type": "code",
   "execution_count": null,
   "metadata": {},
   "outputs": [],
   "source": [
    "def make_validation():\n",
    "  with open('gaussian/validation.csv', 'a', newline='') as writefile:  # Open file in 'a' mode to append\n",
    "    writer = csv.writer(writefile)\n",
    "    for _ in range(20000):\n",
    "      keys = distributions.keys()\n",
    "      id1 = np.random.choice(keys)\n",
    "      id2 = np.random.choice(keys)\n",
    "      while id1 == id2:\n",
    "        id2 = np.random.choice(keys)\n",
    "      odor1 = np.random.multivariate_normal(distributions[id1][\"mean\"], distributions[id1][\"covariances\"])\n",
    "      odor2 = np.random.multivariate_normal(distributions[id2][\"mean\"], distributions[id2][\"covariances\"])\n",
    "      mixture = odor1 + odor2\n",
    "      mixture = [[str([v if abs(v) >= 0.01 else 0 for v in mix]), (id1, id2)] for mix in mixture]\n",
    "      with csv_lock:\n",
    "        writer.writerows(mixture)\n"
   ]
  }
 ],
 "metadata": {
  "kernelspec": {
   "display_name": "base",
   "language": "python",
   "name": "python3"
  },
  "language_info": {
   "codemirror_mode": {
    "name": "ipython",
    "version": 3
   },
   "file_extension": ".py",
   "mimetype": "text/x-python",
   "name": "python",
   "nbconvert_exporter": "python",
   "pygments_lexer": "ipython3",
   "version": "3.9.17"
  }
 },
 "nbformat": 4,
 "nbformat_minor": 2
}
