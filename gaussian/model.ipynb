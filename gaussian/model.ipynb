{
 "cells": [
  {
   "cell_type": "code",
   "execution_count": 1,
   "metadata": {},
   "outputs": [],
   "source": [
    "import torch\n",
    "from torch.utils.data import Dataset\n",
    "import pickle\n",
    "import numpy as np\n"
   ]
  },
  {
   "cell_type": "code",
   "execution_count": 195,
   "metadata": {},
   "outputs": [],
   "source": [
    "# CONSTANTS\n",
    "NUM_CLASSES = 100"
   ]
  },
  {
   "cell_type": "code",
   "execution_count": 196,
   "metadata": {},
   "outputs": [],
   "source": [
    "def create_index(pickle_file, index_file):\n",
    "    offsets = []\n",
    "    with open(pickle_file, 'rb') as file:\n",
    "        while True:\n",
    "            offset = file.tell()\n",
    "            try:\n",
    "                pickle.load(file)\n",
    "                offsets.append(offset)\n",
    "            except EOFError:\n",
    "                break\n",
    "    with open(index_file, 'wb') as file:\n",
    "        pickle.dump(offsets, file)\n",
    "\n",
    "# Usage\n",
    "create_index('training.pkl', 'training.idx')\n"
   ]
  },
  {
   "cell_type": "code",
   "execution_count": 197,
   "metadata": {},
   "outputs": [],
   "source": [
    "import importlib\n",
    "from torch.utils.data import DataLoader, random_split\n",
    "import dataset\n",
    "importlib.reload(dataset)\n",
    "\n",
    "\n",
    "lazy_chem_dataset = dataset.LazyChemDataset(pickle_file='training.pkl', index_file='training.idx', n_mixture=2, num_classes=NUM_CLASSES)\n",
    "train_size = int(0.8 * len(lazy_chem_dataset))\n",
    "val_size = len(lazy_chem_dataset) - train_size\n",
    "train_dataset, val_dataset = random_split(lazy_chem_dataset, [train_size, val_size])\n",
    "\n",
    "\n",
    "# Create DataLoader for training and validation\n",
    "train_loader = DataLoader(train_dataset, batch_size=64, shuffle=True)\n",
    "val_loader = DataLoader(val_dataset, batch_size=64, shuffle=False)\n"
   ]
  },
  {
   "cell_type": "code",
   "execution_count": 199,
   "metadata": {},
   "outputs": [
    {
     "data": {
      "text/plain": [
       "1000000"
      ]
     },
     "execution_count": 199,
     "metadata": {},
     "output_type": "execute_result"
    }
   ],
   "source": [
    "len(lazy_chem_dataset)"
   ]
  },
  {
   "cell_type": "code",
   "execution_count": 200,
   "metadata": {},
   "outputs": [],
   "source": [
    "import torch\n",
    "import torch.nn as nn\n",
    "\n",
    "class SimpleNet(nn.Module):\n",
    "    def __init__(self, input_size, num_classes):\n",
    "        super(SimpleNet, self).__init__()\n",
    "        self.fc1 = nn.Linear(input_size, 100)\n",
    "        self.dropout = nn.Dropout(0.5)  # Dropout layer\n",
    "        self.fc2 = nn.Linear(100, num_classes)  # Output logits, not probabilities\n",
    "\n",
    "    def forward(self, x):\n",
    "        x = torch.relu(self.fc1(x))\n",
    "        x = self.dropout(x)\n",
    "        x = self.fc2(x)  # No sigmoid here\n",
    "        return x\n"
   ]
  },
  {
   "cell_type": "code",
   "execution_count": 201,
   "metadata": {},
   "outputs": [],
   "source": [
    "import torch.optim as optim\n",
    "\n",
    "# Initialize model, criterion, and example inputs and targets\n",
    "model = SimpleNet(input_size=1781, num_classes=NUM_CLASSES)\n",
    "device = torch.device(\"cuda\" if torch.cuda.is_available() else \"cpu\")\n",
    "model.to(device)\n",
    "\n",
    "# Optimizer\n",
    "optimizer = optim.Adam(model.parameters(), lr=0.001, weight_decay=0.01)\n",
    "\n",
    "# Loss Function\n",
    "loss_function = nn.BCEWithLogitsLoss()  # Combines sigmoid and BCE loss\n",
    "\n",
    "\n",
    "\n",
    "# # Example input and target\n",
    "# input_tensor = torch.randn((1, 300))\n",
    "# target = torch.FloatTensor([[1, 0, 1, 1, 0]])  # Example multilabel target\n",
    "\n",
    "# # Forward pass\n",
    "# output = model(input_tensor)"
   ]
  },
  {
   "cell_type": "code",
   "execution_count": 102,
   "metadata": {},
   "outputs": [],
   "source": [
    "def train_model(model, loss_function, optimizer, num_epochs):\n",
    "    # Training Loop\n",
    "    for epoch in range(num_epochs):\n",
    "        model.train()  # Set the model to training mode\n",
    "        train_loss = 0.0\n",
    "        correct_preds = 0\n",
    "        total_preds = 0\n",
    "\n",
    "        for data, target in train_loader:\n",
    "            data, target = data.to(device), target.to(device)  # Move data to the appropriate device\n",
    "\n",
    "            # Forward pass\n",
    "            outputs = model(data).squeeze(1)\n",
    "            loss = loss_function(outputs, target)\n",
    "\n",
    "            # Convert outputs to predicted labels\n",
    "            predicted_probs = torch.sigmoid(outputs)  # Sigmoid to convert logits to probabilities\n",
    "            predicted_labels = (predicted_probs > 0.5).float()  # Threshold probabilities\n",
    "            # print(predicted_labels[0], target[0])\n",
    "\n",
    "            # Calculate accuracy\n",
    "            correct_preds += (predicted_labels == target).float().sum().item()\n",
    "            total_preds += target.numel()\n",
    "\n",
    "            # Backward and optimize\n",
    "            optimizer.zero_grad()  # Clear gradients w.r.t. parameters\n",
    "            loss.backward()  # Backpropagation\n",
    "            optimizer.step()  # Update parameters\n",
    "\n",
    "            train_loss += loss.item() * data.size(0)\n",
    "\n",
    "        # Calculate average loss and accuracy\n",
    "        train_loss /= len(train_loader.dataset)\n",
    "        train_accuracy = correct_preds / total_preds * 100\n",
    "\n",
    "        # Validation phase\n",
    "        model.eval()  # Set model to evaluation mode\n",
    "        val_loss = 0.0\n",
    "        correct_preds = 0\n",
    "        total_preds = 0\n",
    "\n",
    "        with torch.no_grad():\n",
    "            for data, target in val_loader:\n",
    "                data, target = data.to(device), target.to(device)\n",
    "                outputs = model(data).squeeze(1)\n",
    "                loss = loss_function(outputs, target)\n",
    "\n",
    "                # Convert outputs to predicted labels\n",
    "                predicted_probs = torch.sigmoid(outputs)\n",
    "                predicted_labels = (predicted_probs > 0.5).float()\n",
    "\n",
    "                # Calculate accuracy\n",
    "                correct_preds += (predicted_labels == target).float().sum().item()\n",
    "                total_preds += target.numel()\n",
    "\n",
    "                val_loss += loss.item() * data.size(0)\n",
    "\n",
    "        val_loss /= len(val_loader.dataset)\n",
    "        val_accuracy = correct_preds / total_preds * 100\n",
    "\n",
    "        # Print training statistics\n",
    "        print(f'Epoch: {epoch+1}/{num_epochs} \\t'\n",
    "          f'Training Loss: {train_loss:.4f} \\tTraining Accuracy: {train_accuracy:.2f}% \\t'\n",
    "          f'Validation Loss: {val_loss:.4f} \\tValidation Accuracy: {val_accuracy:.2f}%')"
   ]
  },
  {
   "cell_type": "code",
   "execution_count": 202,
   "metadata": {},
   "outputs": [
    {
     "name": "stdout",
     "output_type": "stream",
     "text": [
      "Epoch: 1/5 \tTraining Loss: 0.0556 \tTraining Accuracy: 98.45% \tValidation Loss: 0.0410 \tValidation Accuracy: 98.61%\n",
      "Epoch: 2/5 \tTraining Loss: 0.0510 \tTraining Accuracy: 98.57% \tValidation Loss: 0.0413 \tValidation Accuracy: 98.67%\n",
      "Epoch: 3/5 \tTraining Loss: 0.0509 \tTraining Accuracy: 98.57% \tValidation Loss: 0.0419 \tValidation Accuracy: 98.62%\n",
      "Epoch: 4/5 \tTraining Loss: 0.0509 \tTraining Accuracy: 98.57% \tValidation Loss: 0.0420 \tValidation Accuracy: 98.51%\n",
      "Epoch: 5/5 \tTraining Loss: 0.0509 \tTraining Accuracy: 98.58% \tValidation Loss: 0.0414 \tValidation Accuracy: 98.66%\n"
     ]
    }
   ],
   "source": [
    "train_model(model, loss_function, optimizer, 5)"
   ]
  },
  {
   "cell_type": "code",
   "execution_count": 37,
   "metadata": {},
   "outputs": [],
   "source": [
    "import pickle as pkl\n",
    "with open('distributions.pkl','rb') as readfile:\n",
    "  # ** x is a dictionary, with idx: [chems]\n",
    "  distributions = pkl.load(readfile)"
   ]
  },
  {
   "cell_type": "code",
   "execution_count": null,
   "metadata": {},
   "outputs": [],
   "source": [
    "create_index('testing.pkl', 'testing.idx')\n",
    "test_set = dataset.LazyChemDataset('testing.pkl', 'testing.idx', 3, NUM_CLASSES)"
   ]
  },
  {
   "cell_type": "code",
   "execution_count": 219,
   "metadata": {},
   "outputs": [
    {
     "name": "stdout",
     "output_type": "stream",
     "text": [
      "torch.Size([100]) torch.Size([100])\n",
      "torch.Size([100]) torch.Size([100])\n",
      "torch.Size([100]) torch.Size([100])\n",
      "torch.Size([100]) torch.Size([100])\n",
      "torch.Size([100]) torch.Size([100])\n",
      "torch.Size([100]) torch.Size([100])\n",
      "torch.Size([100]) torch.Size([100])\n",
      "torch.Size([100]) torch.Size([100])\n",
      "torch.Size([100]) torch.Size([100])\n",
      "torch.Size([100]) torch.Size([100])\n",
      "torch.Size([100]) torch.Size([100])\n",
      "torch.Size([100]) torch.Size([100])\n",
      "torch.Size([100]) torch.Size([100])\n",
      "torch.Size([100]) torch.Size([100])\n",
      "torch.Size([100]) torch.Size([100])\n",
      "torch.Size([100]) torch.Size([100])\n",
      "torch.Size([100]) torch.Size([100])\n",
      "torch.Size([100]) torch.Size([100])\n",
      "torch.Size([100]) torch.Size([100])\n",
      "torch.Size([100]) torch.Size([100])\n",
      "torch.Size([100]) torch.Size([100])\n",
      "torch.Size([100]) torch.Size([100])\n",
      "torch.Size([100]) torch.Size([100])\n",
      "torch.Size([100]) torch.Size([100])\n",
      "torch.Size([100]) torch.Size([100])\n",
      "torch.Size([100]) torch.Size([100])\n",
      "torch.Size([100]) torch.Size([100])\n",
      "torch.Size([100]) torch.Size([100])\n",
      "torch.Size([100]) torch.Size([100])\n",
      "torch.Size([100]) torch.Size([100])\n",
      "torch.Size([100]) torch.Size([100])\n",
      "torch.Size([100]) torch.Size([100])\n",
      "torch.Size([100]) torch.Size([100])\n",
      "torch.Size([100]) torch.Size([100])\n",
      "torch.Size([100]) torch.Size([100])\n",
      "torch.Size([100]) torch.Size([100])\n",
      "torch.Size([100]) torch.Size([100])\n",
      "torch.Size([100]) torch.Size([100])\n",
      "torch.Size([100]) torch.Size([100])\n",
      "torch.Size([100]) torch.Size([100])\n",
      "torch.Size([100]) torch.Size([100])\n",
      "torch.Size([100]) torch.Size([100])\n",
      "torch.Size([100]) torch.Size([100])\n",
      "torch.Size([100]) torch.Size([100])\n",
      "torch.Size([100]) torch.Size([100])\n",
      "torch.Size([100]) torch.Size([100])\n",
      "torch.Size([100]) torch.Size([100])\n",
      "torch.Size([100]) torch.Size([100])\n",
      "torch.Size([100]) torch.Size([100])\n",
      "torch.Size([100]) torch.Size([100])\n",
      "torch.Size([100]) torch.Size([100])\n",
      "torch.Size([100]) torch.Size([100])\n",
      "torch.Size([100]) torch.Size([100])\n",
      "torch.Size([100]) torch.Size([100])\n",
      "torch.Size([100]) torch.Size([100])\n",
      "torch.Size([100]) torch.Size([100])\n",
      "torch.Size([100]) torch.Size([100])\n",
      "torch.Size([100]) torch.Size([100])\n",
      "torch.Size([100]) torch.Size([100])\n",
      "torch.Size([100]) torch.Size([100])\n",
      "torch.Size([100]) torch.Size([100])\n",
      "torch.Size([100]) torch.Size([100])\n",
      "torch.Size([100]) torch.Size([100])\n",
      "torch.Size([100]) torch.Size([100])\n",
      "torch.Size([100]) torch.Size([100])\n",
      "torch.Size([100]) torch.Size([100])\n",
      "torch.Size([100]) torch.Size([100])\n",
      "torch.Size([100]) torch.Size([100])\n",
      "torch.Size([100]) torch.Size([100])\n",
      "torch.Size([100]) torch.Size([100])\n",
      "torch.Size([100]) torch.Size([100])\n",
      "torch.Size([100]) torch.Size([100])\n",
      "torch.Size([100]) torch.Size([100])\n",
      "torch.Size([100]) torch.Size([100])\n",
      "torch.Size([100]) torch.Size([100])\n",
      "torch.Size([100]) torch.Size([100])\n",
      "torch.Size([100]) torch.Size([100])\n",
      "torch.Size([100]) torch.Size([100])\n",
      "torch.Size([100]) torch.Size([100])\n",
      "torch.Size([100]) torch.Size([100])\n",
      "torch.Size([100]) torch.Size([100])\n",
      "torch.Size([100]) torch.Size([100])\n",
      "torch.Size([100]) torch.Size([100])\n",
      "torch.Size([100]) torch.Size([100])\n",
      "torch.Size([100]) torch.Size([100])\n",
      "torch.Size([100]) torch.Size([100])\n",
      "torch.Size([100]) torch.Size([100])\n",
      "torch.Size([100]) torch.Size([100])\n",
      "torch.Size([100]) torch.Size([100])\n",
      "torch.Size([100]) torch.Size([100])\n",
      "torch.Size([100]) torch.Size([100])\n",
      "torch.Size([100]) torch.Size([100])\n",
      "torch.Size([100]) torch.Size([100])\n",
      "torch.Size([100]) torch.Size([100])\n",
      "torch.Size([100]) torch.Size([100])\n",
      "torch.Size([100]) torch.Size([100])\n",
      "torch.Size([100]) torch.Size([100])\n",
      "torch.Size([100]) torch.Size([100])\n",
      "torch.Size([100]) torch.Size([100])\n",
      "torch.Size([100]) torch.Size([100])\n",
      "0.9905\n",
      "0.05\n"
     ]
    }
   ],
   "source": [
    "# TESTING\n",
    "x = 0\n",
    "running_correct = 0\n",
    "abs_correct = 0\n",
    "total = 0\n",
    "for (mix, label) in test_set:\n",
    "    if not mix.shape: continue\n",
    "    outputs = model(mix).squeeze(1)\n",
    "    predicted_probs = torch.sigmoid(outputs)  # Sigmoid to convert logits to probabilities\n",
    "    predicted_labels = (predicted_probs > 0.5).float()\n",
    "    running_correct += (predicted_labels == label).float().sum().item()\n",
    "    total += label.numel()\n",
    "    print(predicted_labels.reshape(100).shape, label.shape)\n",
    "    abs_correct += torch.equal(predicted_labels.reshape(100), label)\n",
    "    x += 1\n",
    "    if x >= 100: break\n",
    "\n",
    "print(running_correct/total)\n",
    "print(abs_correct/x)\n",
    "# idx1, idx2 = 7, 6\n",
    "# odor1 = np.random.multivariate_normal(distributions[idx1][\"mean\"], distributions[idx1][\"covariances\"], size=1)\n",
    "# odor2 = np.random.multivariate_normal(distributions[idx2][\"mean\"], distributions[idx2][\"covariances\"], size=1)\n",
    "\n",
    "# # # With actual data from dataset\n",
    "# # data = train_dataset[0][0]\n",
    "# # label = train_dataset[0][1]\n",
    "# # print(label)\n",
    "\n",
    "# data = torch.tensor(odor1 + odor2, dtype=torch.float32)\n",
    "\n",
    "# outputs = model(data).squeeze(1)\n",
    "# predicted_probs = torch.sigmoid(outputs)  # Sigmoid to convert logits to probabilities\n",
    "# predicted_labels = (predicted_probs > 0.5).float()"
   ]
  },
  {
   "cell_type": "markdown",
   "metadata": {},
   "source": [
    "Accuracy 0.9481004148148148 for mixture of 3 on num_classes=30 with 20 samples per mixture"
   ]
  },
  {
   "cell_type": "code",
   "execution_count": 220,
   "metadata": {},
   "outputs": [],
   "source": [
    "torch.save(model.state_dict(), 'N100_sigmoids.pt')\n"
   ]
  },
  {
   "cell_type": "markdown",
   "metadata": {},
   "source": [
    "100 odors, 10 per train: 10.5 min; 0.9905 on test (100 test samples)\n",
    "Epoch: 1/5 \tTraining Loss: 0.0556 \tTraining Accuracy: 98.45% \tValidation Loss: 0.0410 \tValidation Accuracy: 98.61%\n",
    "Epoch: 2/5 \tTraining Loss: 0.0510 \tTraining Accuracy: 98.57% \tValidation Loss: 0.0413 \tValidation Accuracy: 98.67%\n",
    "Epoch: 3/5 \tTraining Loss: 0.0509 \tTraining Accuracy: 98.57% \tValidation Loss: 0.0419 \tValidation Accuracy: 98.62%\n",
    "Epoch: 4/5 \tTraining Loss: 0.0509 \tTraining Accuracy: 98.57% \tValidation Loss: 0.0420 \tValidation Accuracy: 98.51%\n",
    "Epoch: 5/5 \tTraining Loss: 0.0509 \tTraining Accuracy: 98.58% \tValidation Loss: 0.0414 "
   ]
  }
 ],
 "metadata": {
  "kernelspec": {
   "display_name": "base",
   "language": "python",
   "name": "python3"
  },
  "language_info": {
   "codemirror_mode": {
    "name": "ipython",
    "version": 3
   },
   "file_extension": ".py",
   "mimetype": "text/x-python",
   "name": "python",
   "nbconvert_exporter": "python",
   "pygments_lexer": "ipython3",
   "version": "3.9.17"
  }
 },
 "nbformat": 4,
 "nbformat_minor": 2
}
